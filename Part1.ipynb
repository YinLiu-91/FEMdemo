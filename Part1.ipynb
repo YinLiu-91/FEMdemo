{
 "cells": [
  {
   "cell_type": "code",
   "execution_count": null,
   "id": "e0acbcf6",
   "metadata": {},
   "outputs": [],
   "source": [
    "import math,numpy,scipy.linalg\n",
    "import matplotlib.pyplot as plt"
   ]
  },
  {
   "cell_type": "code",
   "execution_count": null,
   "id": "37859ae5",
   "metadata": {},
   "outputs": [],
   "source": [
    "A0=1e-4\n",
    "def A_evenly(x):\n",
    "    return A0\n",
    "\n",
    "k_linear=0.9\n",
    "def A_linear(x):\n",
    "    return A0*(1-k_linear*x)"
   ]
  },
  {
   "cell_type": "code",
   "execution_count": null,
   "id": "3b7b8dc2",
   "metadata": {},
   "outputs": [],
   "source": [
    "from scipy.integrate import quad as scint\n",
    "def integrate_A(fun_A,nodes):\n",
    "    \"\"\"\n",
    "        nodes should include the start and end point\n",
    "        so if there are N segments, len(nodes) should be N+1\n",
    "        ans the length of return list is N\n",
    "    \"\"\"\n",
    "    N=len(nodes)-1\n",
    "    return [scint(fun_A,nodes[i],nodes[i+1])[0]/(nodes[i+1]-nodes[i])**2 for i in range(N)]"
   ]
  },
  {
   "cell_type": "code",
   "execution_count": null,
   "id": "4306dfe5",
   "metadata": {},
   "outputs": [],
   "source": [
    "def gen_K(fun_A,nodes):\n",
    "    N=len(nodes)-1\n",
    "    J=integrate_A(fun_A,nodes)\n",
    "    K=numpy.zeros((3,N))\n",
    "    for i in range(N-1):\n",
    "        K[0,i+1]=-J[i+1]\n",
    "        K[2,i]=-J[i+1]\n",
    "    for i in range(N-1):\n",
    "        K[1,i]=J[i]+J[i+1]\n",
    "    K[1,N-1]=J[N-1]\n",
    "    return K"
   ]
  },
  {
   "cell_type": "code",
   "execution_count": null,
   "id": "34fab08c",
   "metadata": {},
   "outputs": [],
   "source": [
    "nodes=numpy.linspace(0,1,11)\n",
    "print(\"len nodes:\",len(nodes))\n",
    "print(nodes)\n",
    "J=integrate_A(A_evenly,nodes)\n",
    "print(\"len J:\",len(J))\n",
    "print(J)"
   ]
  },
  {
   "cell_type": "code",
   "execution_count": null,
   "id": "50e91c7c",
   "metadata": {},
   "outputs": [],
   "source": [
    "F=1e-8\n",
    "N=10\n",
    "nodes=numpy.linspace(0,1,N+1)\n",
    "K=gen_K(A_evenly,nodes)\n",
    "b=numpy.zeros(N);b[-1]=F\n",
    "u=scipy.linalg.solve_banded((1,1),K,b)\n",
    "plt.plot(nodes[1:],u,'--+')\n",
    "plt.show()"
   ]
  },
  {
   "cell_type": "code",
   "execution_count": null,
   "id": "8d0f832d",
   "metadata": {},
   "outputs": [],
   "source": [
    "F=1e-8\n",
    "N=10\n",
    "nodes=numpy.linspace(0,1,N+1)\n",
    "K=gen_K(A_linear,nodes)\n",
    "b=numpy.zeros(N);b[-1]=F\n",
    "u=scipy.linalg.solve_banded((1,1),K,b)\n",
    "plt.plot(nodes[1:],u,'+',label=\"FEM\")\n",
    "plt.show()"
   ]
  },
  {
   "cell_type": "code",
   "execution_count": null,
   "id": "53442566",
   "metadata": {},
   "outputs": [],
   "source": [
    "plt.plot(nodes[1:],u,'+',label=\"FEM\")\n",
    "n2=numpy.linspace(0,1,100)\n",
    "ext_sol=-(F/(A0*k_linear))*numpy.log(1-k_linear*n2)\n",
    "plt.plot(n2,ext_sol,label=\"exact solution\")\n",
    "plt.legend()\n",
    "plt.show()"
   ]
  }
 ],
 "metadata": {
  "kernelspec": {
   "display_name": "Python 3 (ipykernel)",
   "language": "python",
   "name": "python3"
  },
  "language_info": {
   "codemirror_mode": {
    "name": "ipython",
    "version": 3
   },
   "file_extension": ".py",
   "mimetype": "text/x-python",
   "name": "python",
   "nbconvert_exporter": "python",
   "pygments_lexer": "ipython3",
   "version": "3.9.7"
  }
 },
 "nbformat": 4,
 "nbformat_minor": 5
}
