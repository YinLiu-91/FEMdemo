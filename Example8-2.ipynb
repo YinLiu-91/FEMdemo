{
 "cells": [
  {
   "cell_type": "markdown",
   "id": "ef281a71",
   "metadata": {},
   "source": [
    "# This is example 8.2 of Fish's *A First Course in Finite Elements*\n",
    "\n",
    "## in which a heat conduction problem with a single quadrilateral element is solved"
   ]
  },
  {
   "cell_type": "code",
   "execution_count": null,
   "id": "8787af2f",
   "metadata": {},
   "outputs": [],
   "source": [
    "from IPython.display import Math,display\n",
    "import sympy,numpy,scipy.integrate"
   ]
  },
  {
   "cell_type": "code",
   "execution_count": null,
   "id": "2e588a1d",
   "metadata": {},
   "outputs": [],
   "source": [
    "# 定义四个点的坐标矩阵，rationnal表示分号形式\n",
    "xy=sympy.Matrix([[0,0,2,2],[1,0,sympy.Rational(1,2),1]]).T\n",
    "display(xy)"
   ]
  },
  {
   "cell_type": "code",
   "execution_count": null,
   "id": "8bc62b9a",
   "metadata": {},
   "outputs": [],
   "source": [
    "# corrdinate of parent domain\n",
    "xi,eta=sympy.symbols('xi eta')\n",
    "# shape functions\n",
    "# 定义4个型函数\n",
    "N=sympy.Rational(1,4)*sympy.Matrix([(1-xi)*(1-eta),(1+xi)*(1-eta),(1+xi)*(1+eta),(1-xi)*(1+eta)]).T\n",
    "display(N)\n",
    "# 定义形函数对xi,eta的导数\n",
    "# partial(N1,N2,N3,N4)/partial(xi,eta)\n",
    "GN=sympy.Matrix([[sympy.diff(i,xi) for i in N],[sympy.diff(i,eta) for i in N]])\n",
    "display(GN)"
   ]
  },
  {
   "cell_type": "code",
   "execution_count": null,
   "id": "292c7be4",
   "metadata": {},
   "outputs": [],
   "source": [
    "# J is partial(x,y)/partial(xi,eta)\n",
    "J=GN*xy\n",
    "Jdet=sympy.simplify(J.det())\n",
    "Jinv=sympy.simplify(J**(-1))\n",
    "display(J,Jdet,Jinv)"
   ]
  },
  {
   "cell_type": "code",
   "execution_count": null,
   "id": "406f46b3",
   "metadata": {},
   "outputs": [],
   "source": [
    "# partial(N1,N2,N3,N4)/partial(x,y)\n",
    "NablaN=sympy.simplify(Jinv*GN)\n",
    "display(NablaN)"
   ]
  },
  {
   "cell_type": "code",
   "execution_count": null,
   "id": "51dc29b0",
   "metadata": {},
   "outputs": [],
   "source": [
    "K=numpy.zeros((4,4))\n",
    "for i in range(4):\n",
    "    for j in range(i+1):\n",
    "        # 将sympy表达式转化为一个数值函数\n",
    "        f=sympy.lambdify([xi,eta],Jdet*(NablaN[:,i].T*NablaN[:,j])[0])\n",
    "        K[i,j]=scipy.integrate.dblquad(f,-1,1,-1,1)[0]\n",
    "        if j<i:\n",
    "            K[j,i]=K[i,j]\n",
    "# The K matrix on page 199\n",
    "print(5*K)"
   ]
  }
 ],
 "metadata": {
  "kernelspec": {
   "display_name": "Python 3 (ipykernel)",
   "language": "python",
   "name": "python3"
  },
  "language_info": {
   "codemirror_mode": {
    "name": "ipython",
    "version": 3
   },
   "file_extension": ".py",
   "mimetype": "text/x-python",
   "name": "python",
   "nbconvert_exporter": "python",
   "pygments_lexer": "ipython3",
   "version": "3.9.7"
  }
 },
 "nbformat": 4,
 "nbformat_minor": 5
}
