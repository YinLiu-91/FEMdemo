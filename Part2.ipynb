{
 "cells": [
  {
   "cell_type": "markdown",
   "id": "ffc29f77",
   "metadata": {},
   "source": [
    "## First let's do some symbolic derivation"
   ]
  },
  {
   "cell_type": "code",
   "execution_count": null,
   "id": "de1dec6b",
   "metadata": {},
   "outputs": [],
   "source": [
    "from IPython.display import Math,display\n",
    "import sympy"
   ]
  },
  {
   "cell_type": "code",
   "execution_count": null,
   "id": "3eebb9da",
   "metadata": {},
   "outputs": [],
   "source": [
    "xs=x0,x1,x2,x3=sympy.symbols('x:4')\n",
    "ys=y0,y1,y2,y3=sympy.symbols('y:4')\n",
    "xy=sympy.Matrix([xs,ys]).T\n",
    "display(xy)"
   ]
  },
  {
   "cell_type": "code",
   "execution_count": null,
   "id": "f73c0051",
   "metadata": {},
   "outputs": [],
   "source": [
    "# corrdinate of parent domain\n",
    "xi,eta=sympy.symbols('xi eta')\n",
    "# shape functions\n",
    "N=sympy.Rational(1,4)*sympy.Matrix([(1-xi)*(1-eta),(1+xi)*(1-eta),(1+xi)*(1+eta),(1-xi)*(1+eta)]).T\n",
    "display(N)\n",
    "# partial(N1,N2,N3,N4)/partial(xi,eta)\n",
    "GN=sympy.Matrix([[sympy.diff(i,xi) for i in N],[sympy.diff(i,eta) for i in N]])\n",
    "display(GN)"
   ]
  },
  {
   "cell_type": "code",
   "execution_count": null,
   "id": "9a86cfa8",
   "metadata": {},
   "outputs": [],
   "source": [
    "# J is partial(x,y)/partial(xi,eta)\n",
    "J=sympy.simplify(GN*xy)\n",
    "display(J)\n",
    "Jdet=sympy.simplify(J.det())\n",
    "Jinv=sympy.simplify(J**(-1))\n",
    "# partial(N1,N2,N3,N4)/partial(x,y)\n",
    "NablaN=sympy.simplify(Jinv*GN)"
   ]
  },
  {
   "cell_type": "code",
   "execution_count": null,
   "id": "ab8d0d2d",
   "metadata": {},
   "outputs": [],
   "source": [
    "Ksym=[]\n",
    "for i in range(4):\n",
    "    Ksym.append([])\n",
    "    for j in range(0,i+1):\n",
    "        integrand=sympy.simplify(Jdet*(NablaN[:,i].T*NablaN[:,j])[0])\n",
    "        Ksym[-1].append(integrand)"
   ]
  },
  {
   "cell_type": "markdown",
   "id": "85e17ca8",
   "metadata": {},
   "source": [
    "## Then I read a mesh exported from blender"
   ]
  },
  {
   "cell_type": "code",
   "execution_count": null,
   "id": "24763630",
   "metadata": {},
   "outputs": [],
   "source": [
    "#%matplotlib notebook\n",
    "import meshio,numpy\n",
    "meshio.__version__\n",
    "import matplotlib.pyplot as plt"
   ]
  },
  {
   "cell_type": "code",
   "execution_count": null,
   "id": "cf826178",
   "metadata": {},
   "outputs": [],
   "source": [
    "sample=meshio.read(\"square5x5.ply\")\n",
    "#sample=meshio.read(\"square20x20.ply\")\n",
    "print(sample)"
   ]
  },
  {
   "cell_type": "code",
   "execution_count": null,
   "id": "b02d9586",
   "metadata": {
    "scrolled": true
   },
   "outputs": [],
   "source": [
    "points=sample.__dict__['points'][:,0:2]\n",
    "cells=sample.cells_dict['quad']\n",
    "Npts=len(points)\n",
    "print(points)\n",
    "print(cells)"
   ]
  },
  {
   "cell_type": "code",
   "execution_count": null,
   "id": "6a51fa23",
   "metadata": {},
   "outputs": [],
   "source": [
    "textdx=0.2*(2/numpy.sqrt(Npts))\n",
    "plt.scatter(points[:,0],points[:,1],s=4)\n",
    "for i,p in enumerate(points):\n",
    "    plt.text(p[0]+textdx,p[1],str(i),fontsize=12)\n",
    "plt.show()"
   ]
  },
  {
   "cell_type": "code",
   "execution_count": null,
   "id": "35d2f81e",
   "metadata": {},
   "outputs": [],
   "source": [
    "# define boundary conditions\n",
    "def bdfun(p):\n",
    "    return p[0]*1+p[1]*2\n",
    "\n",
    "counter=numpy.zeros(Npts,dtype=numpy.uint)\n",
    "for c in cells:\n",
    "    for i in c:\n",
    "        counter[i]+=1\n",
    "        \n",
    "bd1st={};bd2nd={}\n",
    "for i in range(Npts):\n",
    "    if counter[i]==4:\n",
    "        continue\n",
    "    if numpy.isclose(points[i][1],-1) or numpy.isclose(points[i][1],1) or\\\n",
    "       numpy.isclose(points[i][0],-1) or numpy.isclose(points[i][0],1):\n",
    "        bd1st[i]=bdfun(points[i])\n",
    "    else:\n",
    "        bd2nd[i]=None\n",
    "print(\"bd1st (len=%d):\\n\"%(len(bd1st)),bd1st)\n",
    "print(\"\")\n",
    "print(\"bd2nd (len=%d):\\n\"%(len(bd2nd)),bd2nd)"
   ]
  },
  {
   "cell_type": "code",
   "execution_count": null,
   "id": "11ba0be5",
   "metadata": {},
   "outputs": [],
   "source": [
    "counter=0\n",
    "g2i={}\n",
    "for i in range(Npts):\n",
    "    if i not in bd1st:\n",
    "        g2i[i]=counter\n",
    "        counter+=1\n",
    "Nipts=len(g2i)\n",
    "print(g2i)"
   ]
  },
  {
   "cell_type": "markdown",
   "id": "9f610c1b",
   "metadata": {},
   "source": [
    "## Then begins the real FEM"
   ]
  },
  {
   "cell_type": "code",
   "execution_count": null,
   "id": "31316007",
   "metadata": {},
   "outputs": [],
   "source": [
    "from tqdm import tqdm\n",
    "import numpy,scipy.integrate,scipy.sparse.linalg"
   ]
  },
  {
   "cell_type": "code",
   "execution_count": null,
   "id": "e591aadd",
   "metadata": {},
   "outputs": [],
   "source": [
    "def gen_K_b(kappa=1.0):\n",
    "    Kval=[];Kij=[]\n",
    "    b=numpy.zeros(Nipts)\n",
    "    for c in tqdm(cells):\n",
    "        gen_K_cell(c,Kval,Kij,b,kappa)\n",
    "    row=[i[0] for i in Kij]\n",
    "    col=[i[1] for i in Kij]\n",
    "    K=scipy.sparse.coo_matrix((Kval,(row,col)),shape=(Nipts,Nipts))\n",
    "    return K.tocsr(),b\n",
    "\n",
    "def gen_K_cell(cell,Kval,Kij,b,kappa):\n",
    "    xyval=[(xs[i],points[p][0]) for i,p in enumerate(cell)]+[(ys[i],points[p][1]) for i,p in enumerate(cell)]\n",
    "    for i in range(4):\n",
    "        if cell[i] not in bd1st:\n",
    "            f=sympy.lambdify([xi,eta],Ksym[i][i].subs(xyval))\n",
    "            k=kappa*scipy.integrate.dblquad(f,-1,1,-1,1)[0]\n",
    "            indi=g2i[cell[i]]\n",
    "            Kval.append(k)\n",
    "            Kij.append((indi,indi))\n",
    "\n",
    "        for j in range(i):\n",
    "            if cell[i] in bd1st and cell[j] in bd1st:\n",
    "                continue\n",
    "            \n",
    "            f=sympy.lambdify([xi,eta],Ksym[i][j].subs(xyval))\n",
    "            k=kappa*scipy.integrate.dblquad(f,-1,1,-1,1)[0]\n",
    "            \n",
    "            \n",
    "            if cell[i] in bd1st:\n",
    "                #print(\"detect boundary: %d->%d\"%(cell[j],cell[i]))\n",
    "                indj=g2i[cell[j]]\n",
    "                b[indj]-=bd1st[cell[i]]*k\n",
    "                del indj\n",
    "            elif cell[j] in bd1st:\n",
    "                #print(\"detect boundary: %d->%d\"%(cell[i],cell[j]))\n",
    "                b[indi]-=bd1st[cell[j]]*k\n",
    "            else:\n",
    "                indj=g2i[cell[j]]\n",
    "                Kval.append(k);Kval.append(k)\n",
    "                Kij.append((indi,indj))\n",
    "                Kij.append((indj,indi))\n",
    "        try:\n",
    "            del indi\n",
    "        except:\n",
    "            pass\n",
    "        try:\n",
    "            del indj\n",
    "        except:\n",
    "            pass\n",
    "\n",
    "K,b=gen_K_b()"
   ]
  },
  {
   "cell_type": "code",
   "execution_count": null,
   "id": "4058206e",
   "metadata": {},
   "outputs": [],
   "source": [
    "print(\"K:\\n\",K)\n",
    "print(\"b:\\n\",b)"
   ]
  },
  {
   "cell_type": "code",
   "execution_count": null,
   "id": "18d75f5a",
   "metadata": {},
   "outputs": [],
   "source": [
    "x=scipy.sparse.linalg.spsolve(K,b)\n",
    "#print(\"x:\",x)\n",
    "gx=numpy.zeros(Npts)\n",
    "for i in range(Npts):\n",
    "    if i in bd1st:\n",
    "        gx[i]=bd1st[i]\n",
    "    else:\n",
    "        gx[i]=x[g2i[i]]"
   ]
  },
  {
   "cell_type": "code",
   "execution_count": null,
   "id": "95c2fd21",
   "metadata": {},
   "outputs": [],
   "source": [
    "def plot3d(gx):\n",
    "    fig=plt.figure()\n",
    "    ax=fig.add_subplot(projection='3d')\n",
    "    drawn=set()\n",
    "    for c in cells:\n",
    "        for i,j in ((0,1),(1,2),(2,3),(3,0)):\n",
    "            if (c[i],c[j]) in drawn:\n",
    "                continue\n",
    "            xs=[points[c[i]][0],points[c[j]][0]]\n",
    "            ys=[points[c[i]][1],points[c[j]][1]]\n",
    "            zs=[gx[c[i]],gx[c[j]]]\n",
    "            ax.plot(xs,ys,zs,'b')\n",
    "            drawn.add((c[i],c[j]))\n",
    "    ax.azim=-10\n",
    "    plt.show()\n",
    "    \n",
    "plot3d(gx)"
   ]
  }
 ],
 "metadata": {
  "kernelspec": {
   "display_name": "Python 3 (ipykernel)",
   "language": "python",
   "name": "python3"
  },
  "language_info": {
   "codemirror_mode": {
    "name": "ipython",
    "version": 3
   },
   "file_extension": ".py",
   "mimetype": "text/x-python",
   "name": "python",
   "nbconvert_exporter": "python",
   "pygments_lexer": "ipython3",
   "version": "3.9.7"
  }
 },
 "nbformat": 4,
 "nbformat_minor": 5
}
